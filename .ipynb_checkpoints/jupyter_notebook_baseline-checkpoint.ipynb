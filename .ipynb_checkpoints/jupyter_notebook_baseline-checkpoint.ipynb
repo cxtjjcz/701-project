{
 "cells": [
  {
   "cell_type": "code",
   "execution_count": 1,
   "metadata": {},
   "outputs": [],
   "source": [
    "#This is for those who want to use python notebook"
   ]
  },
  {
   "cell_type": "code",
   "execution_count": 1,
   "metadata": {},
   "outputs": [],
   "source": [
    "import numpy as np\n",
    "import sklearn\n",
    "from sklearn.feature_extraction.text import CountVectorizer\n",
    "from sklearn.feature_extraction.text import TfidfTransformer\n",
    "from sklearn.naive_bayes import MultinomialNB\n",
    "from sklearn.datasets import load_files\n",
    "from sklearn.pipeline import Pipeline\n",
    "from sklearn.svm import SVC\n",
    "import os"
   ]
  },
  {
   "cell_type": "code",
   "execution_count": 17,
   "metadata": {},
   "outputs": [],
   "source": [
    "def readData(rootPath):\n",
    "\tcategory = [\"pos\",\"neg\"]\n",
    "\t#load only labeled data\n",
    "\tmovie_train = load_files(rootPath + \"aclImdb/train\", shuffle=True, categories=category)\n",
    "\tmovie_test = load_files(rootPath + \"aclImdb/test\", shuffle=True, categories=category)\n",
    "\treturn [movie_train, movie_test]\n",
    "\n",
    "def createFeatureVec(dataset, ngram_range, feature_type = \"bow\"):\t\n",
    "\tcount_vect = CountVectorizer(ngram_range, stop_words=\"english\")\n",
    "\tfeature_vector = count_vect.fit_transform(dataset.data)\n",
    "\tif feature_type == \"tf\":\n",
    "\t\ttf_transformer = TfidfTransformer(use_idf=False).fit(feature_vector)\n",
    "\t\tfeature_vector = tf_transformer.transform(feature_vector)\n",
    "\telif feature_type == \"tf_idf\":\n",
    "\t\ttfidf_transformer = TfidfTransformer()\n",
    "\t\tfeature_vector = tfidf_transformer.fit_transform(feature_vector)\n",
    "\treturn count_vect, feature_vector\n",
    "\n",
    "def trainNB(train_data, feature_type=\"bow\", ngram_range=(1, 2)):\n",
    "\t# default is unigram + bigram and with stop words removed\n",
    "\ttrain_count_vect, train_feature_vector = createFeatureVec(train_data, ngram_range, feature_type)\n",
    "\tclf = MultinomialNB().fit(train_feature_vector, train_data.target)\n",
    "\ttrain_error = np.mean(clf.predict(train_feature_vector) == train_data.target)\n",
    "\treturn ([train_error, train_count_vect, clf])\n",
    "\n",
    "\n",
    "def testNB_SVM(clf, train_count_vect, test_data, feature_type = \"bow\"):\n",
    "\ttest_feature_vector = train_count_vect.transform(test_data.data)\n",
    "\tif feature_type == \"tf\":\n",
    "\t\ttf_transformer = TfidfTransformer(use_idf=False).fit(test_feature_vector)\n",
    "\t\ttest_feature_vector = tf_transformer.transform(test_feature_vector)\n",
    "\telif feature_type == \"tf_idf\":\n",
    "\t\ttfidf_transformer = TfidfTransformer()\n",
    "\t\ttest_feature_vector = tfidf_transformer.fit_transform(test_feature_vector)\n",
    "\n",
    "\ttest_error = np.mean(clf.predict(test_feature_vector) == test_data.target)\n",
    "\treturn test_error\n",
    "\n",
    "def trainSVM(train_data, feature_type=\"bow\", ngram_range=(1, 2), kernal = \"linear\"):\n",
    "\ttrain_count_vect, train_feature_vector = createFeatureVec(train_data, ngram_range, feature_type)\n",
    "    if kernal == \"rbf\":\n",
    "        clf = SVC(kernel=kernal, gamma = \"auto\").fit(train_feature_vector, train_data.target)\n",
    "    else:\n",
    "        clf = SVC(kernel=kernal).fit(train_feature_vector, train_data.target)\n",
    "\t#clf = SVC(kernel=\"rbf\", gamma=\"auto\").fit(train_feature_vector, train_data.target)\n",
    "\tprint(clf.predict(train_feature_vector))\n",
    "\ttrain_error = np.mean(clf.predict(train_feature_vector) == train_data.target)\n",
    "\treturn ([train_error, train_count_vect, clf])\n"
   ]
  },
  {
   "cell_type": "code",
   "execution_count": 3,
   "metadata": {},
   "outputs": [],
   "source": [
    "# feature_type = \"bow\" \n",
    "# with unigram + bigram: training acc = 0.99704; test acc = 0.84272\n",
    "\n",
    "# feature_type = \"tf\" \n",
    "#with unigram + bigram: training acc = 0.94792; test acc = 0.85372\n",
    "\n",
    "# feature_type = \"tf_idf\" \n",
    "#with unigram + bigram: training acc = 0.9844; test acc = 0.85476"
   ]
  },
  {
   "cell_type": "code",
   "execution_count": 18,
   "metadata": {},
   "outputs": [],
   "source": [
    "ngram_range = (1, 2)"
   ]
  },
  {
   "cell_type": "code",
   "execution_count": 19,
   "metadata": {},
   "outputs": [],
   "source": [
    "train_data, test_data = readData(\"\")"
   ]
  },
  {
   "cell_type": "code",
   "execution_count": 7,
   "metadata": {},
   "outputs": [],
   "source": [
    "# train_error, train_count_vect, clf = trainNB(train_data, feature_type, ngram_range)\n",
    "# test_error = testNB(clf, train_count_vect, test_data, feature_type)"
   ]
  },
  {
   "cell_type": "code",
   "execution_count": 7,
   "metadata": {},
   "outputs": [
    {
     "name": "stdout",
     "output_type": "stream",
     "text": [
      "[1 0 1 ... 1 1 0]\n",
      "SVM Training Accuracy: 0.6328 \n",
      "Testing Accuracy 0.63148\n"
     ]
    }
   ],
   "source": [
    "feature_type = \"bow\" \n",
    "train_error_svm, train_count_vect_error, clf_svm = trainSVM(train_data, feature_type, ngram_range, \"linear\")\n",
    "test_error_svm = testNB_SVM(clf_svm, train_count_vect_error, test_data, feature_type)\n",
    "print(\"SVM Training Accuracy:\", train_error_svm, \"\\nTesting Accuracy\", test_error_svm)"
   ]
  },
  {
   "cell_type": "code",
   "execution_count": 9,
   "metadata": {},
   "outputs": [
    {
     "name": "stdout",
     "output_type": "stream",
     "text": [
      "[1 0 0 ... 1 0 0]\n",
      "SVM Training Accuracy: 0.67688 \n",
      "Testing Accuracy 0.674\n"
     ]
    }
   ],
   "source": [
    "feature_type = \"tf\" \n",
    "train_error_svm, train_count_vect_error, clf_svm = trainSVM(train_data, feature_type, ngram_range, \"linear\")\n",
    "test_error_svm = testNB_SVM(clf_svm, train_count_vect_error, test_data, feature_type)\n",
    "print(\"SVM Training Accuracy:\", train_error_svm, \"\\nTesting Accuracy\", test_error_svm)"
   ]
  },
  {
   "cell_type": "code",
   "execution_count": null,
   "metadata": {},
   "outputs": [],
   "source": [
    "feature_type = \"tf_idf\" \n",
    "train_error_svm, train_count_vect_error, clf_svm = trainSVM(train_data, feature_type, ngram_range, \"linear\")\n",
    "test_error_svm = testNB_SVM(clf_svm, train_count_vect_error, test_data, feature_type)\n",
    "print(\"SVM Training Accuracy:\", train_error_svm, \"\\nTesting Accuracy\", test_error_svm)"
   ]
  },
  {
   "cell_type": "code",
   "execution_count": null,
   "metadata": {},
   "outputs": [],
   "source": []
  }
 ],
 "metadata": {
  "kernelspec": {
   "display_name": "Python 3",
   "language": "python",
   "name": "python3"
  },
  "language_info": {
   "codemirror_mode": {
    "name": "ipython",
    "version": 3
   },
   "file_extension": ".py",
   "mimetype": "text/x-python",
   "name": "python",
   "nbconvert_exporter": "python",
   "pygments_lexer": "ipython3",
   "version": "3.7.1"
  }
 },
 "nbformat": 4,
 "nbformat_minor": 2
}
